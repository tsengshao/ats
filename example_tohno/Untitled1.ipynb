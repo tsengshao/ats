{
 "cells": [
  {
   "cell_type": "code",
   "execution_count": 4,
   "id": "f530cbc2-4740-4117-a688-5af9c2f07ba9",
   "metadata": {},
   "outputs": [],
   "source": [
    "#\n",
    "# regridding HEALPix data to 1x1 degree\n",
    "# see https://easy.gems.dkrz.de/Processing/healpix/regridding.html\n",
    "#\n",
    "\n",
    "import healpy as hp\n",
    "import xarray as xr\n",
    "import numpy as np\n",
    "import intake\n"
   ]
  },
  {
   "cell_type": "code",
   "execution_count": null,
   "id": "1dfe49a7-069f-4afa-ade5-3049ebd6cdc6",
   "metadata": {},
   "outputs": [],
   "source": [
    "\n",
    "# zd = xr.open_zarr(\"/large/sftpgo/data/NICAM/hackathon/healpix/NICAM_2d3h_z5.zarr\")\n",
    "cat = intake.opn_catalog(\"/large/sftpgo/data/NICAM/hackathon/220m/220m.yaml\")\n",
    "zd = cat.nicam_gl11(time=\"2d3h\", zoom=15).to_dask()"
   ]
  },
  {
   "cell_type": "code",
   "execution_count": 5,
   "id": "5d3d9585-1dfd-45a8-9be6-93d7c0cb9593",
   "metadata": {},
   "outputs": [],
   "source": [
    "zd = xr.open_zarr('/large/sftpgo/data/NICAM/hackathon/220m/data_healpix_15.zarr')"
   ]
  },
  {
   "cell_type": "code",
   "execution_count": null,
   "id": "2af4ef34-aeca-4942-b7ea-9cebb85188f1",
   "metadata": {},
   "outputs": [],
   "source": [
    "lon = np.arange(0, 360, 1)\n",
    "lat = np.arange(90, -91, -1)\n",
    "\n",
    "# array of HEALPix cells which are closes to the 1x1 degree grid points\n",
    "pix = xr.DataArray(\n",
    "    hp.ang2pix(\n",
    "        zd.healpix.healpix_nside, \n",
    "        *np.meshgrid(lon, lat), \n",
    "        nest=zd.healpix.healpix_order==\"nested\", \n",
    "        lonlat=True),\n",
    "    coords=((\"lat\", lat), (\"lon\", lon)),\n",
    ")\n",
    "\n",
    "zd.tas.isel(cell=pix).isel(time=0).plot(\n",
    "    vmin=253, vmax=303\n",
    ")"
   ]
  },
  {
   "cell_type": "code",
   "execution_count": null,
   "id": "2abac2b2-fc4a-4ffa-bb16-423040b5f85b",
   "metadata": {},
   "outputs": [],
   "source": []
  },
  {
   "cell_type": "code",
   "execution_count": null,
   "id": "a9fbfeb1-9a9a-49b5-9545-c92c9fc8fe03",
   "metadata": {},
   "outputs": [],
   "source": []
  }
 ],
 "metadata": {
  "kernelspec": {
   "display_name": "Python (SharedEnvironment)",
   "language": "python",
   "name": "shared_env"
  },
  "language_info": {
   "codemirror_mode": {
    "name": "ipython",
    "version": 3
   },
   "file_extension": ".py",
   "mimetype": "text/x-python",
   "name": "python",
   "nbconvert_exporter": "python",
   "pygments_lexer": "ipython3",
   "version": "3.12.10"
  }
 },
 "nbformat": 4,
 "nbformat_minor": 5
}
